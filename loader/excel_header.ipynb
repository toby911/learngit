{
 "cells": [
  {
   "cell_type": "code",
   "execution_count": 2,
   "metadata": {},
   "outputs": [],
   "source": [
    "import pandas as pd\n",
    "import csv\n",
    "from typing import Dict, List, Optional\n",
    "from langchain.docstore.document import Document\n",
    "from langchain.document_loaders.base import BaseLoader\n",
    "from openpyxl import load_workbook,Workbook\n",
    "from openpyxl.utils import get_column_letter\n",
    "from openpyxl.utils.dataframe import dataframe_to_rows"
   ]
  },
  {
   "cell_type": "code",
   "execution_count": 3,
   "metadata": {},
   "outputs": [],
   "source": [
    "def read_excel(file_name: str) -> pd.DataFrame:\n",
    "    # 使用pandas读取Excel文件\n",
    "    df = pd.read_excel(file_name, engine='openpyxl')\n",
    "\n",
    "    # 将数据帧转换为Openpyxl工作表对象\n",
    "    workbook = Workbook()\n",
    "    sheet = workbook.active\n",
    "    for r in dataframe_to_rows(df, index=False, header=True):\n",
    "        sheet.append(r)\n",
    "\n",
    "    # 取消跨行合并的单元格，并填充相同的值\n",
    "    merged_ranges = list(sheet.merged_cells.ranges)  # 将迭代器转换为列表，以便在取消合并期间正确迭代\n",
    "    for merged_range in merged_ranges:\n",
    "        top_left_value = sheet.cell(merged_range.min_row, merged_range.min_col).value\n",
    "        for row in range(merged_range.min_row, merged_range.max_row + 1):\n",
    "            for col in range(merged_range.min_col, merged_range.max_col + 1):\n",
    "                sheet.cell(row, col).value = top_left_value\n",
    "        sheet.unmerge_cells(str(merged_range))\n",
    "\n",
    "    # 将修改后的工作表转换回数据帧\n",
    "    data = sheet.values\n",
    "    new_df = pd.DataFrame(data, columns=df.columns)\n",
    "\n",
    "    return new_df"
   ]
  },
  {
   "cell_type": "code",
   "execution_count": 4,
   "metadata": {},
   "outputs": [
    {
     "name": "stdout",
     "output_type": "stream",
     "text": [
      "    Unnamed: 0  Unnamed: 1  Unnamed: 2  Unnamed: 3  Unnamed: 4  Unnamed: 5  \\\n",
      "0   Unnamed: 0  Unnamed: 1  Unnamed: 2  Unnamed: 3  Unnamed: 4  Unnamed: 5   \n",
      "1          NaN         NaN         NaN         NaN         NaN         NaN   \n",
      "2           表头         NaN         NaN         NaN         NaN         NaN   \n",
      "3           公司          车站           A         NaN           B         NaN   \n",
      "4          NaN         NaN           1         2.0           3         4.0   \n",
      "..         ...         ...         ...         ...         ...         ...   \n",
      "60         NaN    广东铁路公司小计         164         NaN         NaN         NaN   \n",
      "61         NaN      贵广公司小计          95         NaN         NaN         NaN   \n",
      "62         NaN   珠三角城际公司小计       54223         NaN         NaN         NaN   \n",
      "63         NaN      广珠城际公司          74         NaN         NaN         NaN   \n",
      "64         NaN          合计       55757         NaN         NaN         NaN   \n",
      "\n",
      "    Unnamed: 6  Unnamed: 7  Unnamed: 8  Unnamed: 9  ...  Unnamed: 23  \\\n",
      "0   Unnamed: 6  Unnamed: 7  Unnamed: 8  Unnamed: 9  ...  Unnamed: 23   \n",
      "1          NaN         NaN         NaN         NaN  ...          NaN   \n",
      "2          NaN         NaN         NaN         NaN  ...          NaN   \n",
      "3          NaN         NaN         NaN         NaN  ...          NaN   \n",
      "4          5.0         6.0         7.0         8.0  ...         22.0   \n",
      "..         ...         ...         ...         ...  ...          ...   \n",
      "60         NaN         NaN         NaN         NaN  ...          NaN   \n",
      "61         NaN         NaN         NaN         NaN  ...          NaN   \n",
      "62         NaN         NaN         NaN         NaN  ...          NaN   \n",
      "63         NaN         NaN         NaN         NaN  ...          NaN   \n",
      "64         NaN         NaN         NaN         NaN  ...          NaN   \n",
      "\n",
      "    Unnamed: 24  Unnamed: 25  Unnamed: 26  Unnamed: 27  Unnamed: 28  \\\n",
      "0   Unnamed: 24  Unnamed: 25  Unnamed: 26  Unnamed: 27  Unnamed: 28   \n",
      "1           NaN          NaN          NaN          NaN          NaN   \n",
      "2           NaN          NaN          NaN          NaN          NaN   \n",
      "3           NaN          NaN          NaN          NaN          NaN   \n",
      "4          23.0         24.0         25.0         26.0         27.0   \n",
      "..          ...          ...          ...          ...          ...   \n",
      "60          NaN          NaN          NaN          NaN          NaN   \n",
      "61          NaN          NaN          NaN          NaN          NaN   \n",
      "62          NaN          NaN          NaN          NaN          NaN   \n",
      "63          NaN          NaN          NaN          NaN          NaN   \n",
      "64          NaN          NaN          NaN          NaN          NaN   \n",
      "\n",
      "    Unnamed: 29  Unnamed: 30  Unnamed: 31  Unnamed: 32  \n",
      "0   Unnamed: 29  Unnamed: 30  Unnamed: 31  Unnamed: 32  \n",
      "1           NaN          NaN          NaN          NaN  \n",
      "2           NaN          NaN          NaN          NaN  \n",
      "3           NaN          NaN          NaN          NaN  \n",
      "4          28.0         29.0         30.0           总数  \n",
      "..          ...          ...          ...          ...  \n",
      "60          NaN          NaN          NaN          NaN  \n",
      "61          NaN          NaN          NaN          NaN  \n",
      "62          NaN          NaN          NaN          NaN  \n",
      "63          NaN          NaN          NaN          NaN  \n",
      "64          NaN          NaN          NaN          NaN  \n",
      "\n",
      "[65 rows x 33 columns]\n"
     ]
    }
   ],
   "source": [
    "file_name = r'/home/llp/work_temps/202304月统计(1).xlsx'  # 用您的Excel文件名替换\n",
    "df = read_excel(file_name)\n",
    "print(df)"
   ]
  }
 ],
 "metadata": {
  "kernelspec": {
   "display_name": "Python 3.10.11 ('langchain')",
   "language": "python",
   "name": "python3"
  },
  "language_info": {
   "codemirror_mode": {
    "name": "ipython",
    "version": 3
   },
   "file_extension": ".py",
   "mimetype": "text/x-python",
   "name": "python",
   "nbconvert_exporter": "python",
   "pygments_lexer": "ipython3",
   "version": "3.10.11"
  },
  "orig_nbformat": 4,
  "vscode": {
   "interpreter": {
    "hash": "8e8f434ec8d8be646b13eb3506861ade140c5f6f0fd9b488e96d43f1c7bb9645"
   }
  }
 },
 "nbformat": 4,
 "nbformat_minor": 2
}
