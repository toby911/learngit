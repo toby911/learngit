{
 "cells": [
  {
   "cell_type": "code",
   "execution_count": 1,
   "metadata": {},
   "outputs": [
    {
     "name": "stderr",
     "output_type": "stream",
     "text": [
      "Exception ignored in: <function Client.__del__ at 0x7f789be29940>\n",
      "Traceback (most recent call last):\n",
      "  File \"/apps/micromamba/envs/chatdoc/lib/python3.9/site-packages/httpx/_client.py\", line 1139, in __del__\n",
      "    self.close()\n",
      "  File \"/apps/micromamba/envs/chatdoc/lib/python3.9/site-packages/httpx/_client.py\", line 1111, in close\n",
      "    self._transport.close()\n",
      "AttributeError: 'Client' object has no attribute '_transport'\n"
     ]
    }
   ],
   "source": [
    "import sys, os\n",
    "current_working_directory = os.getcwd()\n",
    "sys.path.append(os.path.dirname(current_working_directory))\n",
    "\n",
    "from langchain.chat_models import ChatOpenAI\n",
    "from langchain import PromptTemplate, LLMChain\n",
    "from langchain.prompts.chat import (\n",
    "    ChatPromptTemplate,\n",
    "    SystemMessagePromptTemplate,\n",
    "    AIMessagePromptTemplate,\n",
    "    HumanMessagePromptTemplate,\n",
    ")\n",
    "from langchain.schema import (\n",
    "    AIMessage,\n",
    "    HumanMessage,\n",
    "    SystemMessage\n",
    ")\n",
    "\n",
    "from langchain.embeddings.openai import OpenAIEmbeddings\n",
    "from langchain.vectorstores import Chroma\n",
    "from langchain.text_splitter import CharacterTextSplitter\n",
    "from langchain.llms import OpenAI\n",
    "from langchain.chains import ConversationalRetrievalChain\n",
    "from langchain.base_language import BaseLanguageModel\n",
    "from langchain.chains.combine_documents.base import BaseCombineDocumentsChain\n",
    "from langchain.chains.combine_documents.map_reduce import MapReduceDocumentsChain\n",
    "from langchain.chains.combine_documents.refine import RefineDocumentsChain\n",
    "from langchain.chains.combine_documents.stuff import StuffDocumentsChain\n",
    "from langchain.chains.llm import LLMChain\n",
    "from langchain.memory import ConversationBufferMemory\n",
    "from langchain.chains.summarize import map_reduce_prompt, refine_prompts, stuff_prompt, _load_map_reduce_chain, _load_refine_chain, _load_stuff_chain, LoadingCallable\n",
    "from langchain.prompts.base import BasePromptTemplate\n",
    "from typing import Optional, Any, Mapping\n",
    "from prompts import stuff_prompt, refine_prompt, mapreduce_prompt\n",
    "from loader.pdf_loader import loadDocsFromPDF\n",
    "from langchain.embeddings.huggingface import HuggingFaceEmbeddings\n",
    "import milvusUtil as milvus\n",
    "from langchain.chains.qa_with_sources import load_qa_with_sources_chain\n",
    "from chains.qa_refine_prompt import DEFAULT_REFINE_PROMPT, DEFAULT_TEXT_QA_PROMPT, EXAMPLE_PROMPT\n",
    "from chains.condense_quest_prompt import CONDENSE_QUESTION_PROMPT_ZH\n",
    "from langchain.chains import RetrievalQAWithSourcesChain\n",
    "from langchain.docstore.document import Document"
   ]
  },
  {
   "cell_type": "code",
   "execution_count": 2,
   "metadata": {},
   "outputs": [
    {
     "name": "stderr",
     "output_type": "stream",
     "text": [
      "No sentence-transformers model found with name /apps/models/GanymedeNil/text2vec-base-chinese/GanymedeNil_text2vec-base-chinese. Creating a new one with MEAN pooling.\n"
     ]
    }
   ],
   "source": [
    "from models.glm_llm import glm_llm as glm\n",
    "llm = glm()\n",
    "embedding = HuggingFaceEmbeddings(model_name=\"/apps/models/GanymedeNil/text2vec-base-chinese/GanymedeNil_text2vec-base-chinese\", )\n"
   ]
  },
  {
   "cell_type": "code",
   "execution_count": 5,
   "metadata": {},
   "outputs": [
    {
     "name": "stdout",
     "output_type": "stream",
     "text": [
      "question=打开excel知识库, get_kb_collection_name return page_content='excel测试' metadata={'collection_name': 'k7635e3ebfe08'}, score = 362.1020202636719\n"
     ]
    }
   ],
   "source": [
    "collection_name_zh, collection_name = milvus.get_kb_collection_name(embedding=embedding, query=\"打开excel知识库\")\n",
    "vectorstore = milvus.get_vectordb(embedding=embedding, collection_name=collection_name,connection_args = None)\n",
    "chat_history = []"
   ]
  },
  {
   "cell_type": "code",
   "execution_count": 8,
   "metadata": {},
   "outputs": [
    {
     "name": "stdout",
     "output_type": "stream",
     "text": [
      "【AI的回答】\n",
      "根据新的上下文信息，广铁集团机关一般管理人员管理办法适用于集团公司及所属非法人单位(含运输站段、运输辅助单位，以及其他不具有法人资格的单位)、一级非运输企业、集团公司控股合资公司。该办法试行统一管理、分级负责、分类评价、全面监督的原则。该办法的主要内容包括分类考核、考核方式、考核内容以及结果运用。集团公司根据年度综合考评情况，将考评结果纳入集团公司年度经营业绩考核。\n",
      "\n",
      "新的上下文信息还提供了一些新的细节，例如，广铁集团机关一般管理人员管理办法中规定，机关一般管理人员应当具备政治素质好，坚决贯彻党的路线、方针、政策，坚决执行上级的决策部署，顾全大局，令行禁止；忠于职守、勤勉敬业，主动承责、积极担责，始终保持良好的精神状态；品行端正，遵纪守法，恪守职业道德；公道正派、清正廉洁。此外，新的上下文信息还提供了一些新的示例，例如，如何落实机关一般管理人员管理工作的民主集中制原则。\n",
      "\n",
      "综上所述，新的上下文信息提供了更多的细节和背景，有助于更好地理解广铁集团机关一般管理人员管理办法的内容和目的。\n",
      "出处：/apps/docs/excel测试/（广铁企发〔2020〕79号）中国铁路广州局集团有限公司关于公布《广州局集团公司法律事务监督检查考评办法》的发文说明.pdf, page:1\n",
      "出处：/apps/docs/excel测试/（人函〔2019〕10号）关于公布《中国铁路广州局集团有限公司机关一般管理人员管理办法（试行）》的通知.pdf, page:2\n",
      "出处：/apps/docs/excel测试/（人函〔2019〕10号）《中国铁路广州局集团有限公司机关一般管理人员管理办法（试行）》.pdf, page:2\n",
      "出处：/apps/docs/excel测试/（集团办计发〔2019〕67号）中国铁路广州局集团有限公司办公室关于公布《广州局集团公司节约能源管理办法》的通知.pdf, page:9\n"
     ]
    }
   ],
   "source": [
    "chain = load_qa_with_sources_chain(llm, chain_type=\"refine\", question_prompt = DEFAULT_TEXT_QA_PROMPT, refine_prompt = DEFAULT_REFINE_PROMPT, document_prompt = EXAMPLE_PROMPT)\n",
    "query = \"请总结广铁集团机关一般管理人员管理办法？\"\n",
    "qa = RetrievalQAWithSourcesChain(combine_documents_chain=chain, retriever=vectorstore.as_retriever(), return_source_documents = True)\n",
    "result = qa({\"question\": query}, return_only_outputs=True)\n",
    "docs:list[Document] = result[\"source_documents\"]\n",
    "print(f\"【AI的回答】\\n{result['answer']}\")\n",
    "for doc in docs:\n",
    "    print(f\"出处：{doc.metadata['file_path']}, page:{doc.metadata['page_number']}\")\n",
    "\n",
    "chat_history.append((query, result[\"answer\"]))"
   ]
  },
  {
   "cell_type": "code",
   "execution_count": null,
   "metadata": {},
   "outputs": [],
   "source": [
    "memory = ConversationBufferMemory(memory_key=\"chat_history\", return_messages=True)\n",
    "qa = ConversationalRetrievalChain.from_llm(llm, vectorstore.as_retriever(), memory=memory)\n",
    "vectordbkwargs = {\"search_distance\": 0.9}\n",
    "chat_history = []\n",
    "result = qa({\"question\": \"请总结广铁集团机关一般管理人员管理办法？\"})\n",
    "# result = qa({\"question\": question,\"chat_history\": chat_history, \"vectordbkwargs\": vectordbkwargs})\n",
    "print(result)"
   ]
  },
  {
   "cell_type": "code",
   "execution_count": null,
   "metadata": {},
   "outputs": [],
   "source": [
    "# from langchain.prompts.prompt import PromptTemplate\n",
    "\n",
    "# _template = \"\"\"给定以下对话和后续问题，请将后续问题重新表述为一个独立的问题，使用中文回答.\n",
    "\n",
    "# 对话历史:\n",
    "# {chat_history}\n",
    "# 接下来的输入: {question}\n",
    "# 独立问题:\"\"\"\n",
    "# CONDENSE_QUESTION_PROMPT_ZH = PromptTemplate.from_template(_template)\n",
    "\n",
    "# prompt_template = \"\"\"使用下面的上下文来回答最后的问题。如果你不知道答案，只需要说你不知道，不要试图编造一个答案.\n",
    "\n",
    "# {context}\n",
    "\n",
    "# 问题: {question}\n",
    "# 有帮助的回答:\"\"\"\n",
    "# QA_PROMPT_ZH = PromptTemplate(\n",
    "#     template=prompt_template, input_variables=[\"context\", \"question\"]\n",
    "# )\n"
   ]
  },
  {
   "cell_type": "code",
   "execution_count": 9,
   "metadata": {},
   "outputs": [
    {
     "name": "stdout",
     "output_type": "stream",
     "text": [
      "[('请总结广铁集团机关一般管理人员管理办法？', '根据新的上下文信息，广铁集团机关一般管理人员管理办法适用于集团公司及所属非法人单位(含运输站段、运输辅助单位，以及其他不具有法人资格的单位)、一级非运输企业、集团公司控股合资公司。该办法试行统一管理、分级负责、分类评价、全面监督的原则。该办法的主要内容包括分类考核、考核方式、考核内容以及结果运用。集团公司根据年度综合考评情况，将考评结果纳入集团公司年度经营业绩考核。\\n\\n新的上下文信息还提供了一些新的细节，例如，广铁集团机关一般管理人员管理办法中规定，机关一般管理人员应当具备政治素质好，坚决贯彻党的路线、方针、政策，坚决执行上级的决策部署，顾全大局，令行禁止；忠于职守、勤勉敬业，主动承责、积极担责，始终保持良好的精神状态；品行端正，遵纪守法，恪守职业道德；公道正派、清正廉洁。此外，新的上下文信息还提供了一些新的示例，例如，如何落实机关一般管理人员管理工作的民主集中制原则。\\n\\n综上所述，新的上下文信息提供了更多的细节和背景，有助于更好地理解广铁集团机关一般管理人员管理办法的内容和目的。'), ('请说明广铁集团机关一般管理人员管理办法什么时候试行', '根据新的上下文信息，广铁集团机关一般管理人员管理办法是在 2019 年试行的。\\n\\n新的上下文信息包括：\\n\\n- 中国铁路广州局集团有限公司人事部人函〔2019〕10 号发布的通知\\n- 中国铁路广州局集团有限公司机关一般管理人员管理办法(试行)\\n- 第一章总则\\n- 第一条为认真贯彻执行党的干部路线方针政策，落实全面从严治党、从严管理干部的要求，适应公司制改革发展需要，建立科学规范、有效管用、有利于优秀人才脱颖而出的选人用人机制，建设一支信念坚定、为民服务、勤政务实、敢于担当、清正廉洁的高素质机关管理人员队伍，依据集团公司人事管理相关制度和有关法律法规，结合实际，制定本办法。\\n- 第二条本办法所称机关一般管理人员，包括集团公司机关职能机构、党群机构、附属机构、生产机构正科职及以下管理人员和专业技术人员。\\n- 第三条机关一般管理人员管理工作要遵循以下原则：\\n- (一)党管干部；\\n- (二)德才兼备、以德为先，五湖四海、任人唯贤；\\n- (三)事业为上、人岗相适、人事相宜；\\n- (四)公道正派、注重实绩、群众公认；\\n- (五)民主集中制；\\n- (六)依法依规办事；\\n- (七)按编配备、精干高效。\\n-第四条人事部(党委组织部)在集团公司党委、集团总公司领导下负责机关一般管理人员的选拔任用和管理监督工作。机关各部门承担主体责任，抓好对本部门一般管理人员的日常教育和管理。\\n-第二章选拔录用\\n- 第五条机关一般管理人员应当具备下列基本条件：政治素质好，坚决贯彻党的路线、方针、政策，坚决执行上级的决策部署，顾全大局，令行禁止；忠于职守、勤勉敬业，主动承责、积极担责，始终保持良好的精神状态；品行端正，遵纪守法，恪守职业道德；公道正派、清正廉洁。\\n-第六条选拔录用机关一般管理人员，一般采取公开招聘方式，根据工作需要也可采取组织选调方式进行。\\n-第七条集团公司机关部门和附属机构主任科员及以下管理岗位、专业技术岗位补充人员，原则上采取公开招聘方式。')]\n",
      "{'question': '请说明广铁集团机关一般管理人员管理办法什么时候试行', 'answer': '根据新的上下文信息，广铁集团机关一般管理人员管理办法是在 2019 年试行的。\\n\\n新的上下文信息包括：\\n\\n- 中国铁路广州局集团有限公司人事部人函〔2019〕10 号发布的通知\\n- 中国铁路广州局集团有限公司机关一般管理人员管理办法(试行)\\n- 第一章总则\\n- 第一条为认真贯彻执行党的干部路线方针政策，落实全面从严治党、从严管理干部的要求，适应公司制改革发展需要，建立科学规范、有效管用、有利于优秀人才脱颖而出的选人用人机制，建设一支信念坚定、为民服务、勤政务实、敢于担当、清正廉洁的高素质机关管理人员队伍，依据集团公司人事管理相关制度和有关法律法规，结合实际，制定本办法。\\n- 第二条本办法所称机关一般管理人员，包括集团公司机关职能机构、党群机构、附属机构、生产机构正科职及以下管理人员和专业技术人员。\\n- 第三条机关一般管理人员管理工作要遵循以下原则：\\n- (一)党管干部；\\n- (二)德才兼备、以德为先，五湖四海、任人唯贤；\\n- (三)事业为上、人岗相适、人事相宜；\\n- (四)公道正派、注重实绩、群众公认；\\n- (五)民主集中制；\\n- (六)依法依规办事；\\n- (七)按编配备、精干高效。\\n-第四条人事部(党委组织部)在集团公司党委、集团总公司领导下负责机关一般管理人员的选拔任用和管理监督工作。机关各部门承担主体责任，抓好对本部门一般管理人员的日常教育和管理。\\n-第二章选拔录用\\n- 第五条机关一般管理人员应当具备下列基本条件：政治素质好，坚决贯彻党的路线、方针、政策，坚决执行上级的决策部署，顾全大局，令行禁止；忠于职守、勤勉敬业，主动承责、积极担责，始终保持良好的精神状态；品行端正，遵纪守法，恪守职业道德；公道正派、清正廉洁。\\n-第六条选拔录用机关一般管理人员，一般采取公开招聘方式，根据工作需要也可采取组织选调方式进行。\\n-第七条集团公司机关部门和附属机构主任科员及以下管理岗位、专业技术岗位补充人员，原则上采取公开招聘方式。', 'source_documents': [{}, {'file_path': '/apps/docs/excel测试/（广铁企发〔2020〕79号）中国铁路广州局集团有限公司关于公布《广州局集团公司法律事务监督检查考评办法》的发文说明.pdf', 'page_number': 1}, {'file_path': '/apps/docs/excel测试/（人函〔2019〕10号）关于公布《中国铁路广州局集团有限公司机关一般管理人员管理办法（试行）》的通知.pdf', 'page_number': 2}, {'file_path': '/apps/docs/excel测试/（人函〔2019〕10号）《中国铁路广州局集团有限公司机关一般管理人员管理办法（试行）》.pdf', 'page_number': 2}, {'file_path': '/apps/docs/excel测试/附件：《广州局集团公司铁路运输设施设备技术改造工程设计概（预）算编制办法》.pdf', 'page_number': 1}]}\n"
     ]
    }
   ],
   "source": [
    "question_generator = LLMChain(llm=llm, prompt=CONDENSE_QUESTION_PROMPT_ZH)\n",
    "doc_chain = load_qa_with_sources_chain(llm, chain_type=\"refine\", question_prompt = DEFAULT_TEXT_QA_PROMPT, refine_prompt = DEFAULT_REFINE_PROMPT, document_prompt = EXAMPLE_PROMPT)\n",
    "chain = ConversationalRetrievalChain(\n",
    "    retriever=vectorstore.as_retriever(),\n",
    "    question_generator=question_generator,\n",
    "    combine_docs_chain=doc_chain,\n",
    "    return_source_documents = True\n",
    ")\n",
    "quesyion = \"请说明广铁集团机关一般管理人员管理办法什么时候试行\"\n",
    "result = chain({\"question\": quesyion, \"chat_history\": chat_history})\n",
    "docs:list[Document] = result[\"source_documents\"]\n",
    "source_documents = [{}]\n",
    "for doc in docs:\n",
    "    source_documents.append({'file_path':doc.metadata['file_path'], 'page_number':doc.metadata['page_number']})\n",
    "answer = {\"question\":result[\"question\"], \"answer\":result['answer'], \"source_documents\":source_documents}\n",
    "chat_history.append((answer[\"question\"], answer[\"answer\"]))\n",
    "print(f\"chat_history.........\\n{chat_history}\")\n",
    "print(f\"question.........\\n{quesyion}\")\n",
    "print(f\"answer............\\n{answer}\")"
   ]
  },
  {
   "cell_type": "code",
   "execution_count": 10,
   "metadata": {},
   "outputs": [
    {
     "name": "stdout",
     "output_type": "stream",
     "text": [
      "chat_history............\n",
      ":[('请总结广铁集团机关一般管理人员管理办法？', '根据新的上下文信息，广铁集团机关一般管理人员管理办法适用于集团公司及所属非法人单位(含运输站段、运输辅助单位，以及其他不具有法人资格的单位)、一级非运输企业、集团公司控股合资公司。该办法试行统一管理、分级负责、分类评价、全面监督的原则。该办法的主要内容包括分类考核、考核方式、考核内容以及结果运用。集团公司根据年度综合考评情况，将考评结果纳入集团公司年度经营业绩考核。\\n\\n新的上下文信息还提供了一些新的细节，例如，广铁集团机关一般管理人员管理办法中规定，机关一般管理人员应当具备政治素质好，坚决贯彻党的路线、方针、政策，坚决执行上级的决策部署，顾全大局，令行禁止；忠于职守、勤勉敬业，主动承责、积极担责，始终保持良好的精神状态；品行端正，遵纪守法，恪守职业道德；公道正派、清正廉洁。此外，新的上下文信息还提供了一些新的示例，例如，如何落实机关一般管理人员管理工作的民主集中制原则。\\n\\n综上所述，新的上下文信息提供了更多的细节和背景，有助于更好地理解广铁集团机关一般管理人员管理办法的内容和目的。'), ('请说明广铁集团机关一般管理人员管理办法什么时候试行', '根据新的上下文信息，广铁集团机关一般管理人员管理办法是在 2019 年试行的。\\n\\n新的上下文信息包括：\\n\\n- 中国铁路广州局集团有限公司人事部人函〔2019〕10 号发布的通知\\n- 中国铁路广州局集团有限公司机关一般管理人员管理办法(试行)\\n- 第一章总则\\n- 第一条为认真贯彻执行党的干部路线方针政策，落实全面从严治党、从严管理干部的要求，适应公司制改革发展需要，建立科学规范、有效管用、有利于优秀人才脱颖而出的选人用人机制，建设一支信念坚定、为民服务、勤政务实、敢于担当、清正廉洁的高素质机关管理人员队伍，依据集团公司人事管理相关制度和有关法律法规，结合实际，制定本办法。\\n- 第二条本办法所称机关一般管理人员，包括集团公司机关职能机构、党群机构、附属机构、生产机构正科职及以下管理人员和专业技术人员。\\n- 第三条机关一般管理人员管理工作要遵循以下原则：\\n- (一)党管干部；\\n- (二)德才兼备、以德为先，五湖四海、任人唯贤；\\n- (三)事业为上、人岗相适、人事相宜；\\n- (四)公道正派、注重实绩、群众公认；\\n- (五)民主集中制；\\n- (六)依法依规办事；\\n- (七)按编配备、精干高效。\\n-第四条人事部(党委组织部)在集团公司党委、集团总公司领导下负责机关一般管理人员的选拔任用和管理监督工作。机关各部门承担主体责任，抓好对本部门一般管理人员的日常教育和管理。\\n-第二章选拔录用\\n- 第五条机关一般管理人员应当具备下列基本条件：政治素质好，坚决贯彻党的路线、方针、政策，坚决执行上级的决策部署，顾全大局，令行禁止；忠于职守、勤勉敬业，主动承责、积极担责，始终保持良好的精神状态；品行端正，遵纪守法，恪守职业道德；公道正派、清正廉洁。\\n-第六条选拔录用机关一般管理人员，一般采取公开招聘方式，根据工作需要也可采取组织选调方式进行。\\n-第七条集团公司机关部门和附属机构主任科员及以下管理岗位、专业技术岗位补充人员，原则上采取公开招聘方式。'), ('请说明广铁集团机关一般管理人员管理办法的主要内容', '根据提供的上下文，广铁集团机关一般管理人员管理办法的主要内容包括：\\n\\n1. 适用范围：该办法适用于中国铁路广州局集团有限公司(以下简称“集团公司”)机关一般管理人员。\\n\\n2. 工作职责和任职条件：该办法明确了集团公司机关一般管理人员的工作职责和任职条件，包括正科职及以下管理人员和专业技术人员。\\n\\n3. 考核评价方式和标准：该办法规定了集团公司机关一般管理人员的考核评价方式和标准，包括绩效评价、能力素质评价等。\\n\\n4. 培训和教育计划和方式：该办法规定了集团公司机关一般管理人员的培训和教育计划和方式，包括定期培训、岗位培训、专业培训等。\\n\\n该办法还明确了人事部(党委组织部)在集团公司党委、集团总公司领导下负责机关一般管理人员的选拔任用和管理监督工作，机关各部门承担主体责任，抓好对本部门一般管理人员的日常教育和管理。\\n\\n此外，该办法还明确了各用能单位应根据本办法组织制定本单位节能管理办法或实施细则。\\n\\n因此，广铁集团机关一般管理人员管理办法的主要内容包括适用范围、工作职责和任职条件、考核评价方式和标准、培训和教育计划和方式以及各用能单位应根据本办法组织制定本单位节能管理办法或实施细则。')]\n",
      "question............\n",
      ":请说明广铁集团机关一般管理人员管理办法的主要内容\n",
      "answer..............\n",
      "{'question': '请说明广铁集团机关一般管理人员管理办法的主要内容', 'answer': '根据提供的上下文，广铁集团机关一般管理人员管理办法的主要内容包括：\\n\\n1. 适用范围：该办法适用于中国铁路广州局集团有限公司(以下简称“集团公司”)机关一般管理人员。\\n\\n2. 工作职责和任职条件：该办法明确了集团公司机关一般管理人员的工作职责和任职条件，包括正科职及以下管理人员和专业技术人员。\\n\\n3. 考核评价方式和标准：该办法规定了集团公司机关一般管理人员的考核评价方式和标准，包括绩效评价、能力素质评价等。\\n\\n4. 培训和教育计划和方式：该办法规定了集团公司机关一般管理人员的培训和教育计划和方式，包括定期培训、岗位培训、专业培训等。\\n\\n该办法还明确了人事部(党委组织部)在集团公司党委、集团总公司领导下负责机关一般管理人员的选拔任用和管理监督工作，机关各部门承担主体责任，抓好对本部门一般管理人员的日常教育和管理。\\n\\n此外，该办法还明确了各用能单位应根据本办法组织制定本单位节能管理办法或实施细则。\\n\\n因此，广铁集团机关一般管理人员管理办法的主要内容包括适用范围、工作职责和任职条件、考核评价方式和标准、培训和教育计划和方式以及各用能单位应根据本办法组织制定本单位节能管理办法或实施细则。', 'source_documents': [{}, {'file_path': '/apps/docs/excel测试/（广铁企发〔2020〕79号）中国铁路广州局集团有限公司关于公布《广州局集团公司法律事务监督检查考评办法》的发文说明.pdf', 'page_number': 1}, {'file_path': '/apps/docs/excel测试/（人函〔2019〕10号）关于公布《中国铁路广州局集团有限公司机关一般管理人员管理办法（试行）》的通知.pdf', 'page_number': 2}, {'file_path': '/apps/docs/excel测试/（人函〔2019〕10号）《中国铁路广州局集团有限公司机关一般管理人员管理办法（试行）》.pdf', 'page_number': 2}, {'file_path': '/apps/docs/excel测试/（集团办计发〔2019〕67号）中国铁路广州局集团有限公司办公室关于公布《广州局集团公司节约能源管理办法》的通知.pdf', 'page_number': 9}]}\n"
     ]
    }
   ],
   "source": [
    "question = \"请说明广铁集团机关一般管理人员管理办法的主要内容\"\n",
    "result = chain({\"question\": question, \"chat_history\": chat_history})\n",
    "docs:list[Document] = result[\"source_documents\"]\n",
    "source_documents = [{}]\n",
    "for doc in docs:\n",
    "    source_documents.append({'file_path':doc.metadata['file_path'], 'page_number':doc.metadata['page_number']})\n",
    "answer = {\"question\":result[\"question\"], \"answer\":result['answer'], \"source_documents\":source_documents}\n",
    "chat_history.append((answer[\"question\"], answer[\"answer\"]))\n",
    "print(f\"chat_history............\\n:{chat_history}\")\n",
    "print(f\"question............\\n:{question}\")\n",
    "print(f\"answer..............\\n{answer}\")"
   ]
  },
  {
   "cell_type": "code",
   "execution_count": 11,
   "metadata": {},
   "outputs": [
    {
     "name": "stdout",
     "output_type": "stream",
     "text": [
      "chat_history............\n",
      "[('请总结广铁集团机关一般管理人员管理办法？', '根据新的上下文信息，广铁集团机关一般管理人员管理办法适用于集团公司及所属非法人单位(含运输站段、运输辅助单位，以及其他不具有法人资格的单位)、一级非运输企业、集团公司控股合资公司。该办法试行统一管理、分级负责、分类评价、全面监督的原则。该办法的主要内容包括分类考核、考核方式、考核内容以及结果运用。集团公司根据年度综合考评情况，将考评结果纳入集团公司年度经营业绩考核。\\n\\n新的上下文信息还提供了一些新的细节，例如，广铁集团机关一般管理人员管理办法中规定，机关一般管理人员应当具备政治素质好，坚决贯彻党的路线、方针、政策，坚决执行上级的决策部署，顾全大局，令行禁止；忠于职守、勤勉敬业，主动承责、积极担责，始终保持良好的精神状态；品行端正，遵纪守法，恪守职业道德；公道正派、清正廉洁。此外，新的上下文信息还提供了一些新的示例，例如，如何落实机关一般管理人员管理工作的民主集中制原则。\\n\\n综上所述，新的上下文信息提供了更多的细节和背景，有助于更好地理解广铁集团机关一般管理人员管理办法的内容和目的。'), ('请说明广铁集团机关一般管理人员管理办法什么时候试行', '根据新的上下文信息，广铁集团机关一般管理人员管理办法是在 2019 年试行的。\\n\\n新的上下文信息包括：\\n\\n- 中国铁路广州局集团有限公司人事部人函〔2019〕10 号发布的通知\\n- 中国铁路广州局集团有限公司机关一般管理人员管理办法(试行)\\n- 第一章总则\\n- 第一条为认真贯彻执行党的干部路线方针政策，落实全面从严治党、从严管理干部的要求，适应公司制改革发展需要，建立科学规范、有效管用、有利于优秀人才脱颖而出的选人用人机制，建设一支信念坚定、为民服务、勤政务实、敢于担当、清正廉洁的高素质机关管理人员队伍，依据集团公司人事管理相关制度和有关法律法规，结合实际，制定本办法。\\n- 第二条本办法所称机关一般管理人员，包括集团公司机关职能机构、党群机构、附属机构、生产机构正科职及以下管理人员和专业技术人员。\\n- 第三条机关一般管理人员管理工作要遵循以下原则：\\n- (一)党管干部；\\n- (二)德才兼备、以德为先，五湖四海、任人唯贤；\\n- (三)事业为上、人岗相适、人事相宜；\\n- (四)公道正派、注重实绩、群众公认；\\n- (五)民主集中制；\\n- (六)依法依规办事；\\n- (七)按编配备、精干高效。\\n-第四条人事部(党委组织部)在集团公司党委、集团总公司领导下负责机关一般管理人员的选拔任用和管理监督工作。机关各部门承担主体责任，抓好对本部门一般管理人员的日常教育和管理。\\n-第二章选拔录用\\n- 第五条机关一般管理人员应当具备下列基本条件：政治素质好，坚决贯彻党的路线、方针、政策，坚决执行上级的决策部署，顾全大局，令行禁止；忠于职守、勤勉敬业，主动承责、积极担责，始终保持良好的精神状态；品行端正，遵纪守法，恪守职业道德；公道正派、清正廉洁。\\n-第六条选拔录用机关一般管理人员，一般采取公开招聘方式，根据工作需要也可采取组织选调方式进行。\\n-第七条集团公司机关部门和附属机构主任科员及以下管理岗位、专业技术岗位补充人员，原则上采取公开招聘方式。'), ('请说明广铁集团机关一般管理人员管理办法的主要内容', '根据提供的上下文，广铁集团机关一般管理人员管理办法的主要内容包括：\\n\\n1. 适用范围：该办法适用于中国铁路广州局集团有限公司(以下简称“集团公司”)机关一般管理人员。\\n\\n2. 工作职责和任职条件：该办法明确了集团公司机关一般管理人员的工作职责和任职条件，包括正科职及以下管理人员和专业技术人员。\\n\\n3. 考核评价方式和标准：该办法规定了集团公司机关一般管理人员的考核评价方式和标准，包括绩效评价、能力素质评价等。\\n\\n4. 培训和教育计划和方式：该办法规定了集团公司机关一般管理人员的培训和教育计划和方式，包括定期培训、岗位培训、专业培训等。\\n\\n该办法还明确了人事部(党委组织部)在集团公司党委、集团总公司领导下负责机关一般管理人员的选拔任用和管理监督工作，机关各部门承担主体责任，抓好对本部门一般管理人员的日常教育和管理。\\n\\n此外，该办法还明确了各用能单位应根据本办法组织制定本单位节能管理办法或实施细则。\\n\\n因此，广铁集团机关一般管理人员管理办法的主要内容包括适用范围、工作职责和任职条件、考核评价方式和标准、培训和教育计划和方式以及各用能单位应根据本办法组织制定本单位节能管理办法或实施细则。'), ('广铁集团机关一般管理人员的工作职责是什么', '根据新的上下文信息，广铁集团机关一般管理人员的工作职责包括但不限于：\\n\\n1. 执行公司机关的各项管理工作，完成公司机关赋予的各项任务；\\n2. 负责机关的日常事务管理，包括组织会议、协调内部关系、管理文件、监督执行等；\\n3. 负责机关人员的培训和管理，包括人员招聘、考核、晋升等；\\n4. 负责机关的财务管理，包括预算编制、成本控制、财务报告等；\\n5. 负责机关的人力资源管理，包括招聘、考核、晋升等；\\n6. 负责机关的信息化建设和网络安全管理，包括信息系统的安全评估、维护和升级等；\\n7. 参与公司机关的战略规划、决策和执行工作，提出意见和建议；\\n8. 负责机关的行政事务，包括接待、后勤等。\\n\\n需要注意的是，具体的工作职责可能会因公司机关的具体情况而有所不同。')]\n",
      "question............\n",
      "广铁集团机关一般管理人员的工作职责是什么\n",
      "answer..............\n",
      "{'question': '广铁集团机关一般管理人员的工作职责是什么', 'answer': '根据新的上下文信息，广铁集团机关一般管理人员的工作职责包括但不限于：\\n\\n1. 执行公司机关的各项管理工作，完成公司机关赋予的各项任务；\\n2. 负责机关的日常事务管理，包括组织会议、协调内部关系、管理文件、监督执行等；\\n3. 负责机关人员的培训和管理，包括人员招聘、考核、晋升等；\\n4. 负责机关的财务管理，包括预算编制、成本控制、财务报告等；\\n5. 负责机关的人力资源管理，包括招聘、考核、晋升等；\\n6. 负责机关的信息化建设和网络安全管理，包括信息系统的安全评估、维护和升级等；\\n7. 参与公司机关的战略规划、决策和执行工作，提出意见和建议；\\n8. 负责机关的行政事务，包括接待、后勤等。\\n\\n需要注意的是，具体的工作职责可能会因公司机关的具体情况而有所不同。', 'source_documents': [{}, {'file_path': '/apps/docs/excel测试/（广铁企发〔2020〕79号）中国铁路广州局集团有限公司关于公布《广州局集团公司法律事务监督检查考评办法》的发文说明.pdf', 'page_number': 1}, {'file_path': '/apps/docs/excel测试/（人函〔2019〕10号）关于公布《中国铁路广州局集团有限公司机关一般管理人员管理办法（试行）》的通知.pdf', 'page_number': 2}, {'file_path': '/apps/docs/excel测试/（人函〔2019〕10号）《中国铁路广州局集团有限公司机关一般管理人员管理办法（试行）》.pdf', 'page_number': 2}, {'file_path': '/apps/docs/excel测试/（集团办计发〔2019〕67号）中国铁路广州局集团有限公司办公室关于公布《广州局集团公司节约能源管理办法》的通知.pdf', 'page_number': 9}]}\n"
     ]
    }
   ],
   "source": [
    "question = \"广铁集团机关一般管理人员的工作职责是什么\"\n",
    "result = chain({\"question\": question, \"chat_history\": chat_history})\n",
    "docs:list[Document] = result[\"source_documents\"]\n",
    "source_documents = [{}]\n",
    "for doc in docs:\n",
    "    source_documents.append({'file_path':doc.metadata['file_path'], 'page_number':doc.metadata['page_number']})\n",
    "answer = {\"question\":result[\"question\"], \"answer\":result['answer'], \"source_documents\":source_documents}\n",
    "chat_history.append((answer[\"question\"], answer[\"answer\"]))\n",
    "print(f\"chat_history............\\n{chat_history}\")\n",
    "print(f\"question............\\n{question}\")\n",
    "print(f\"answer..............\\n{answer}\")"
   ]
  },
  {
   "cell_type": "code",
   "execution_count": 12,
   "metadata": {},
   "outputs": [
    {
     "name": "stdout",
     "output_type": "stream",
     "text": [
      "chat_history............\n",
      "[('请总结广铁集团机关一般管理人员管理办法？', '根据新的上下文信息，广铁集团机关一般管理人员管理办法适用于集团公司及所属非法人单位(含运输站段、运输辅助单位，以及其他不具有法人资格的单位)、一级非运输企业、集团公司控股合资公司。该办法试行统一管理、分级负责、分类评价、全面监督的原则。该办法的主要内容包括分类考核、考核方式、考核内容以及结果运用。集团公司根据年度综合考评情况，将考评结果纳入集团公司年度经营业绩考核。\\n\\n新的上下文信息还提供了一些新的细节，例如，广铁集团机关一般管理人员管理办法中规定，机关一般管理人员应当具备政治素质好，坚决贯彻党的路线、方针、政策，坚决执行上级的决策部署，顾全大局，令行禁止；忠于职守、勤勉敬业，主动承责、积极担责，始终保持良好的精神状态；品行端正，遵纪守法，恪守职业道德；公道正派、清正廉洁。此外，新的上下文信息还提供了一些新的示例，例如，如何落实机关一般管理人员管理工作的民主集中制原则。\\n\\n综上所述，新的上下文信息提供了更多的细节和背景，有助于更好地理解广铁集团机关一般管理人员管理办法的内容和目的。'), ('请说明广铁集团机关一般管理人员管理办法什么时候试行', '根据新的上下文信息，广铁集团机关一般管理人员管理办法是在 2019 年试行的。\\n\\n新的上下文信息包括：\\n\\n- 中国铁路广州局集团有限公司人事部人函〔2019〕10 号发布的通知\\n- 中国铁路广州局集团有限公司机关一般管理人员管理办法(试行)\\n- 第一章总则\\n- 第一条为认真贯彻执行党的干部路线方针政策，落实全面从严治党、从严管理干部的要求，适应公司制改革发展需要，建立科学规范、有效管用、有利于优秀人才脱颖而出的选人用人机制，建设一支信念坚定、为民服务、勤政务实、敢于担当、清正廉洁的高素质机关管理人员队伍，依据集团公司人事管理相关制度和有关法律法规，结合实际，制定本办法。\\n- 第二条本办法所称机关一般管理人员，包括集团公司机关职能机构、党群机构、附属机构、生产机构正科职及以下管理人员和专业技术人员。\\n- 第三条机关一般管理人员管理工作要遵循以下原则：\\n- (一)党管干部；\\n- (二)德才兼备、以德为先，五湖四海、任人唯贤；\\n- (三)事业为上、人岗相适、人事相宜；\\n- (四)公道正派、注重实绩、群众公认；\\n- (五)民主集中制；\\n- (六)依法依规办事；\\n- (七)按编配备、精干高效。\\n-第四条人事部(党委组织部)在集团公司党委、集团总公司领导下负责机关一般管理人员的选拔任用和管理监督工作。机关各部门承担主体责任，抓好对本部门一般管理人员的日常教育和管理。\\n-第二章选拔录用\\n- 第五条机关一般管理人员应当具备下列基本条件：政治素质好，坚决贯彻党的路线、方针、政策，坚决执行上级的决策部署，顾全大局，令行禁止；忠于职守、勤勉敬业，主动承责、积极担责，始终保持良好的精神状态；品行端正，遵纪守法，恪守职业道德；公道正派、清正廉洁。\\n-第六条选拔录用机关一般管理人员，一般采取公开招聘方式，根据工作需要也可采取组织选调方式进行。\\n-第七条集团公司机关部门和附属机构主任科员及以下管理岗位、专业技术岗位补充人员，原则上采取公开招聘方式。'), ('请说明广铁集团机关一般管理人员管理办法的主要内容', '根据提供的上下文，广铁集团机关一般管理人员管理办法的主要内容包括：\\n\\n1. 适用范围：该办法适用于中国铁路广州局集团有限公司(以下简称“集团公司”)机关一般管理人员。\\n\\n2. 工作职责和任职条件：该办法明确了集团公司机关一般管理人员的工作职责和任职条件，包括正科职及以下管理人员和专业技术人员。\\n\\n3. 考核评价方式和标准：该办法规定了集团公司机关一般管理人员的考核评价方式和标准，包括绩效评价、能力素质评价等。\\n\\n4. 培训和教育计划和方式：该办法规定了集团公司机关一般管理人员的培训和教育计划和方式，包括定期培训、岗位培训、专业培训等。\\n\\n该办法还明确了人事部(党委组织部)在集团公司党委、集团总公司领导下负责机关一般管理人员的选拔任用和管理监督工作，机关各部门承担主体责任，抓好对本部门一般管理人员的日常教育和管理。\\n\\n此外，该办法还明确了各用能单位应根据本办法组织制定本单位节能管理办法或实施细则。\\n\\n因此，广铁集团机关一般管理人员管理办法的主要内容包括适用范围、工作职责和任职条件、考核评价方式和标准、培训和教育计划和方式以及各用能单位应根据本办法组织制定本单位节能管理办法或实施细则。'), ('广铁集团机关一般管理人员的工作职责是什么', '根据新的上下文信息，广铁集团机关一般管理人员的工作职责包括但不限于：\\n\\n1. 执行公司机关的各项管理工作，完成公司机关赋予的各项任务；\\n2. 负责机关的日常事务管理，包括组织会议、协调内部关系、管理文件、监督执行等；\\n3. 负责机关人员的培训和管理，包括人员招聘、考核、晋升等；\\n4. 负责机关的财务管理，包括预算编制、成本控制、财务报告等；\\n5. 负责机关的人力资源管理，包括招聘、考核、晋升等；\\n6. 负责机关的信息化建设和网络安全管理，包括信息系统的安全评估、维护和升级等；\\n7. 参与公司机关的战略规划、决策和执行工作，提出意见和建议；\\n8. 负责机关的行政事务，包括接待、后勤等。\\n\\n需要注意的是，具体的工作职责可能会因公司机关的具体情况而有所不同。'), ('广铁集团机关一般管理人员的任职条件是什么', '根据新的上下文信息，广铁集团机关一般管理人员的任职条件包括但不限于政治素质好，坚决贯彻党的路线、方针、政策，坚决执行上级的决策部署，顾全大局，令行禁止；忠于职守、勤勉敬业，主动承责、积极担责，始终保持良好的精神状态；品行端正，遵纪守法，恪守职业道德；公道正派、清正廉洁。同时，选拔录用机关一般管理人员一般采取公开招聘方式，根据工作需要也可采取组织选调方式进行。\\n\\n新的上下文提供了更多的信息，可以进一步完善答案。请提供更多上下文以帮助回答您的问题。')]\n",
      "question............\n",
      "广铁集团机关一般管理人员的任职条件是什么\n",
      "answer..............\n",
      "{'question': '广铁集团机关一般管理人员的任职条件是什么', 'answer': '根据新的上下文信息，广铁集团机关一般管理人员的任职条件包括但不限于政治素质好，坚决贯彻党的路线、方针、政策，坚决执行上级的决策部署，顾全大局，令行禁止；忠于职守、勤勉敬业，主动承责、积极担责，始终保持良好的精神状态；品行端正，遵纪守法，恪守职业道德；公道正派、清正廉洁。同时，选拔录用机关一般管理人员一般采取公开招聘方式，根据工作需要也可采取组织选调方式进行。\\n\\n新的上下文提供了更多的信息，可以进一步完善答案。请提供更多上下文以帮助回答您的问题。', 'source_documents': [{}, {'file_path': '/apps/docs/excel测试/（人函〔2019〕10号）关于公布《中国铁路广州局集团有限公司机关一般管理人员管理办法（试行）》的通知.pdf', 'page_number': 2}, {'file_path': '/apps/docs/excel测试/（人函〔2019〕10号）《中国铁路广州局集团有限公司机关一般管理人员管理办法（试行）》.pdf', 'page_number': 2}, {'file_path': '/apps/docs/excel测试/（广铁企发〔2020〕79号）中国铁路广州局集团有限公司关于公布《广州局集团公司法律事务监督检查考评办法》的发文说明.pdf', 'page_number': 1}, {'file_path': '/apps/docs/excel测试/（人函〔2019〕10号）《中国铁路广州局集团有限公司机关一般管理人员管理办法（试行）》.pdf', 'page_number': 4}]}\n"
     ]
    }
   ],
   "source": [
    "question = \"广铁集团机关一般管理人员的任职条件是什么\"\n",
    "result = chain({\"question\": question, \"chat_history\": chat_history})\n",
    "docs:list[Document] = result[\"source_documents\"]\n",
    "source_documents = [{}]\n",
    "for doc in docs:\n",
    "    source_documents.append({'file_path':doc.metadata['file_path'], 'page_number':doc.metadata['page_number']})\n",
    "answer = {\"question\":result[\"question\"], \"answer\":result['answer'], \"source_documents\":source_documents}\n",
    "chat_history.append((answer[\"question\"], answer[\"answer\"]))\n",
    "print(f\"chat_history............\\n{chat_history}\")\n",
    "print(f\"question............\\n{question}\")\n",
    "print(f\"answer..............\\n{answer}\")"
   ]
  }
 ],
 "metadata": {
  "kernelspec": {
   "display_name": "Python 3.9.7 64-bit",
   "language": "python",
   "name": "python3"
  },
  "language_info": {
   "codemirror_mode": {
    "name": "ipython",
    "version": 3
   },
   "file_extension": ".py",
   "mimetype": "text/x-python",
   "name": "python",
   "nbconvert_exporter": "python",
   "pygments_lexer": "ipython3",
   "version": "3.9.7"
  },
  "orig_nbformat": 4,
  "vscode": {
   "interpreter": {
    "hash": "9c7bcdda5471046a12f3e4b9af27498d31b2ce0a6b162d910b1eace8385bf713"
   }
  }
 },
 "nbformat": 4,
 "nbformat_minor": 2
}
